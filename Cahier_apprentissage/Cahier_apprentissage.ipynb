{
 "cells": [
  {
   "cell_type": "markdown",
   "metadata": {},
   "source": [
    "# Cahier d'apprentissage\n"
   ]
  },
  {
   "cell_type": "markdown",
   "metadata": {},
   "source": [
    "![imagelogo](https://anr.fr/fileadmin/_processed_/6/8/csm_actu-chaires-ia-en-tete_actu_4ad501d78a.jpg)"
   ]
  },
  {
   "cell_type": "markdown",
   "metadata": {},
   "source": [
    "## Tables des matières\n",
    "\n",
    "* [Jupiter notebook](#jupyter)\n",
    "* [Analyse de données et Statistiques](#Analyseexploratoire)\n",
    "* [Classification, Régression logistique, KNN, Arbre de décision, Random Forest, Naives Bayes](#classification)\n",
    "* [Front-end HTML CSS FLASK](#frontend)\n",
    "* [La POO avec Python](#python)\n",
    "* [Les bases de données](#bdd)\n",
    "    * [MySQL](#mysql)\n",
    "    * [PhpMyAdmin](#phpmy)\n",
    "\n"
   ]
  },
  {
   "cell_type": "markdown",
   "metadata": {},
   "source": [
    "### Jupyter notebook <a class=\"anchor\" id=\"jupyter\"></a>\n",
    "Un lien intéressant sur jupyter notebook\n",
    "https://jupyterbook.org/start/overview.html#anatomy-of-a-book                                ,\n",
    "lien expliquant comment intégrer une video au jupyter notebook :\n",
    "https://stackoverflow.com/questions/11804820/how-can-i-embed-a-youtube-video-on-github-wiki-pages\n"
   ]
  },
  {
   "cell_type": "markdown",
   "metadata": {},
   "source": [
    "## Analyse de données et Statistiques <a class=\"anchor\" id=\"Analyseexploratoire\"></a>\n",
    "\n",
    "[notebook cahier_analyse_exploratoire](cahier_analyse_exploratoire.ipynb)"
   ]
  },
  {
   "cell_type": "markdown",
   "metadata": {},
   "source": [
    "## Classification, Régression logistique, KNN, Arbre de décision, Random Forest, Naives Bayes <a class=\"anchor\" id=\"classification\"></a>\n",
    "\n",
    "[notebook cahier_classification](cahier_classification.ipynb)"
   ]
  },
  {
   "cell_type": "markdown",
   "metadata": {},
   "source": [
    "\n",
    "### Front-end HTML CSS FLASK <a class=\"anchor\" id=\"frontend\"></a> "
   ]
  },
  {
   "cell_type": "markdown",
   "metadata": {},
   "source": [
    "### Le langage Python <a class=\"anchor\" id=\"python\"></a>\n",
    "\n",
    "\n",
    "La doc officielle Python :  https://docs.python.org/fr/3/\n",
    "\n",
    "Site d'entrainement au Python : https://www.kaggle.com/colinmorris/hello-python\n",
    "\n",
    "Dictionnaires Python : https://python.doctor/page-apprendre-dictionnaire-python\n",
    "\n",
    "Lien du site de l'université de Paris-diderot, ce sont des ressources sur python en français et bien expliquées : (ici indexé sur les dictionnaire)\n",
    "\n",
    "https://python.sdv.univ-paris-diderot.fr/13_dictionnaires_tuples_sets/\n",
    "\n",
    "### POO en Python\n",
    "\n",
    "lien vers la POO\n",
    "\n",
    "#### "
   ]
  },
  {
   "cell_type": "markdown",
   "metadata": {},
   "source": [
    "### Les bases de données  <a class=\"anchor\" id=\"bdd\"></a>\n",
    "\n",
    "#### MySQL <a class=\"anchor\" id=\"mysql\"></a>\n",
    " \n",
    "MySQL est un système de gestion de bases de données relationnelles  \n",
    "\n",
    "Site officiel de MySQL : https://dev.mysql.com/doc/refman/8.0/en/\n",
    "\n",
    "#### PhpMyAdmin <a class=\"anchor\" id=\"phpmy\"></a>\n",
    "\n",
    "PhpMyAdmin est une application Web de gestion pour les systèmes de gestion de base de données MySQ"
   ]
  },
  {
   "cell_type": "code",
   "execution_count": null,
   "metadata": {},
   "outputs": [],
   "source": []
  }
 ],
 "metadata": {
  "kernelspec": {
   "display_name": "Python 3 (ipykernel)",
   "language": "python",
   "name": "python3"
  },
  "language_info": {
   "codemirror_mode": {
    "name": "ipython",
    "version": 3
   },
   "file_extension": ".py",
   "mimetype": "text/x-python",
   "name": "python",
   "nbconvert_exporter": "python",
   "pygments_lexer": "ipython3",
   "version": "3.9.7"
  }
 },
 "nbformat": 4,
 "nbformat_minor": 2
}
